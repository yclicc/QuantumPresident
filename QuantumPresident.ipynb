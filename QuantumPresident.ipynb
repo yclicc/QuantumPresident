{
 "cells": [
  {
   "cell_type": "markdown",
   "metadata": {},
   "source": [
    "# Computing Allowed Hands for Quantum President\n",
    "### Requirements\n",
    "You must install Sage, instructions for which can be found [here](https://doc.sagemath.org/html/en/installation/conda.html). Alternatively you could upload this notebook to [CoCalc](https://cocalc.com/) which is certainly the best bet if you are on Windows as Sage otherwise then requires Cygwin.\n",
    "### Define a ring of polynomials in $x$, $a$, $b$, $c$, $d$\n",
    "$x$ is a placeholder variable, but $a$, $b$, $c$ and $d$ are the number of single cards, double cards, triple cards and quadruple cards (e.g. a quadruple could be if a hand contains all 4 aces) in the hand."
   ]
  },
  {
   "cell_type": "code",
   "execution_count": 1,
   "metadata": {
    "collapsed": false,
    "jupyter": {
     "outputs_hidden": false
    }
   },
   "outputs": [],
   "source": [
    "R.<x, a, b, c, d> = QQ[]"
   ]
  },
  {
   "cell_type": "markdown",
   "metadata": {},
   "source": [
    "$f$ is the generating function for standard 4 player president. For each of the 13 card values we can draw between 0 and 4 cards, but notice (I missed it initially) the binomial coefficients, since we want to count the number of ways of getting e.g. 2 cards of a face value."
   ]
  },
  {
   "cell_type": "code",
   "execution_count": 2,
   "metadata": {
    "collapsed": false,
    "jupyter": {
     "outputs_hidden": false
    }
   },
   "outputs": [],
   "source": [
    "f = (1+4*a*x+6*b*x^2+4*c*x^3+d*x^4)^13"
   ]
  },
  {
   "cell_type": "markdown",
   "metadata": {},
   "source": [
    "$g$ is the same but for 3 player president, where for one of the face values (as a card is excluded) we allow a max of 3 draws."
   ]
  },
  {
   "cell_type": "code",
   "execution_count": 3,
   "metadata": {
    "collapsed": false,
    "jupyter": {
     "outputs_hidden": false
    }
   },
   "outputs": [],
   "source": [
    "g = (1+4*a*x+6*b*x^2+4*c*x^3+d*x^4)^12 * (1+4*a*x+6*b*x^2+4*c*x^3)"
   ]
  },
  {
   "cell_type": "markdown",
   "metadata": {},
   "source": [
    "$h$ is for 5 player president. Two cards are left out this time so we have to account for the cases where they are of different face value (first product) or the same face value (second product)"
   ]
  },
  {
   "cell_type": "code",
   "execution_count": 4,
   "metadata": {
    "collapsed": false,
    "jupyter": {
     "outputs_hidden": false
    }
   },
   "outputs": [],
   "source": [
    "h = (1+4*a*x+6*b*x^2+4*c*x^3+d*x^4)^8 * (1+4*a*x+6*b*x^2+4*c*x^3)^2 + (1+4*a*x+6*b*x^2+4*c*x^3+d*x^4)^9 * (1+4*a*x+6*b*x^2)"
   ]
  },
  {
   "cell_type": "markdown",
   "metadata": {},
   "source": [
    "The first function is adapted from [here](https://ask.sagemath.org/question/53323/extracting-terms-of-polynomial-of-certain-powers/) and takes the nth root of any monomial which is a perfect nth power. The second function is a hack to print a given polynomial in descending order of the coefficents of its terms. compute_for_generator takes a given generating function and finds the coefficient (in a,b,c,d) of $x^n$ where $n$ is the hand size (called \"take\"). If div is set to true it then divides by the total if all the free variables are set to 1 (which counts how many hands of size $n$ there are). We then raise the coefficient (a polynomial in $a$, $b$, $c$ and $d$) to the power of the number of players and extract the perfect power monomials and root them. If div is true we also multiply by $100.0$ to get percentage probabilities. Finally, order the terms as before."
   ]
  },
  {
   "cell_type": "code",
   "execution_count": 9,
   "metadata": {
    "collapsed": false,
    "jupyter": {
     "outputs_hidden": false
    }
   },
   "outputs": [],
   "source": [
    "def only_perfect_power_monomials(f, n):\n",
    "    R = f.parent()\n",
    "    def nth_root_or_zero(m):\n",
    "        try:\n",
    "            return m^(1/n)\n",
    "        except ValueError:\n",
    "            return R.zero()\n",
    "    mm = f.monomials()\n",
    "    return sum([f[m] * nth_root_or_zero(m) for m in mm], R.zero())\n",
    "\n",
    "def order_by_terms(p):\n",
    "    def get_coeff(mon):\n",
    "        try:\n",
    "            return float(mon.split(\"*\")[0])\n",
    "        except ValueError:\n",
    "            return 1\n",
    "    return \" + \".join(sorted(str(p).split(\" + \"), reverse=True, key=get_coeff))\n",
    "\n",
    "def compute_for_generator(f, take=13, players=4, div=True):\n",
    "    take_per_player = f.coefficient({x:take})\n",
    "    if div:\n",
    "        take_per_player_prob = take_per_player / take_per_player.substitute({a:1,b:1,c:1,d:1})\n",
    "    else:\n",
    "        take_per_player_prob = take_per_player\n",
    "    take_overall = take_per_player_prob^players\n",
    "    if div:\n",
    "        probs = 100.0 * only_perfect_power_monomials(take_overall, players)\n",
    "    else:\n",
    "        probs = only_perfect_power_monomials(take_overall, players)\n",
    "    return order_by_terms(probs)"
   ]
  },
  {
   "cell_type": "markdown",
   "metadata": {},
   "source": [
    "For 4 players, the most likely outcome is 6 singles, 2 doubles and a triple, with 1.723% chance.`"
   ]
  },
  {
   "cell_type": "code",
   "execution_count": 10,
   "metadata": {},
   "outputs": [
    {
     "data": {
      "text/plain": [
       "'1.72252240762150*a^6*b^2*c + 0.877581202511554*a^7*b^3 + 0.746835361243830*a^5*b^4 + 0.563968725643764*a^4*b^3*c + 0.0205570113706279*a^8*b*c + 0.00927014255365473*a^9*b^2 + 0.00399018350624033*a^3*b^5 + 0.00176910665219154*a^5*b*c^2 + 0.000415596210818873*a^2*b^4*c + 0.000342931110435850*a^3*b^2*c^2 + 0.0000274869246698372*a^5*b^2*d + 2.68505724947749e-6*a^7*b*d + 2.51865544510790e-6*a^7*c^2 + 7.74823291384573e-7*a^3*b^3*d + 4.98291387225133e-7*a^11*b + 4.93223959579481e-7*a^4*b*c*d + 1.47299837369773e-7*a^10*c + 1.97491650572249e-8*a*b^3*c^2 + 1.55309947422104e-8*a*b^6 + 6.24154480889012e-9*a^6*c*d + 5.37861060449645e-9*a^2*b^2*c*d + 9.02777682483352e-10*a^4*c^3 + 6.69166261360306e-10*a^2*b*c^3 + 2.04603958530723e-10*a^9*d + 1.03568161807245e-11*a*b^4*d + 6.46855257901308e-12*b^5*c + 4.10642295854319e-13*a^3*c^2*d + 1.24734776469882e-14*a^13 + 6.47984212014216e-15*a*b*c^2*d + 6.44753749823362e-15*a^3*b*d^2 + 1.22675024782278e-15*a^5*d^2 + 4.75457924995811e-16*b^2*c^3 + 4.07185138578444e-16*b^3*c*d + 1.33055089483996e-18*a*b^2*d^2 + 1.15947672609861e-18*a*c^4 + 8.82577755266695e-20*a^2*c*d^2 + 1.10576317415105e-24*b*c*d^2 + 6.90322505917191e-25*c^3*d + 1.05334855028868e-29*a*d^3'"
      ]
     },
     "execution_count": 10,
     "metadata": {},
     "output_type": "execute_result"
    }
   ],
   "source": [
    "compute_for_generator(f)"
   ]
  },
  {
   "cell_type": "markdown",
   "metadata": {},
   "source": [
    "For 3 players, the most likely outcome is 6 singles, 4 doubles and a triple."
   ]
  },
  {
   "cell_type": "code",
   "execution_count": 6,
   "metadata": {
    "collapsed": false,
    "jupyter": {
     "outputs_hidden": false
    }
   },
   "outputs": [
    {
     "data": {
      "text/plain": [
       "'4.18073597543673*a^6*b^4*c + 1.75741108227523*a^4*b^5*c + 1.43056343789123*a^5*b^3*c^2 + 0.207533649763542*a^7*b^2*c^2 + 0.165545877828272*a^8*b^3*c + 0.136422350985267*a^5*b^6 + 0.135582575958755*a^3*b^4*c^2 + 0.0549635687132487*a^7*b^5 + 0.0104893316922015*a^4*b^2*c^3 + 0.00808469918256861*a^2*b^6*c + 0.00796750504396531*a^6*b^2*c*d + 0.00760642565423642*a^4*b^3*c*d + 0.00499782269309869*a^3*b^7 + 0.00452572228178032*a^5*b^4*d + 0.00266414771043243*a^6*b*c^3 + 0.00167950834666751*a^7*b^3*d + 0.000322835211526758*a^9*b*c^2 + 0.000240012869488548*a^2*b^3*c^3 + 0.000212163813080206*a^3*b^5*d + 0.000139256595701970*a^9*b^4 + 0.000111859908653751*a^5*b*c^2*d + 0.000106395610158253*a^8*b*c*d + 0.0000673444727292290*a^2*b^4*c*d + 0.0000594983167733847*a^3*b^2*c^2*d + 0.0000513612376113944*a*b^5*c^2 + 0.0000307283510300481*a^10*b^2*c + 0.0000112463693577719*a^9*b^2*d + 1.91765920851298e-6*a^8*c^3 + 1.74570643973651e-6*a^3*b*c^4 + 7.85088317982917e-7*a*b^8 + 4.89128276373072e-7*a^7*c^2*d + 2.06920731248611e-7*a^5*b^2*d^2 + 1.71900287141686e-7*a^5*c^4 + 7.10331355648098e-8*a*b^3*c^2*d + 4.39456462026723e-8*a*b^6*d + 2.62822223045081e-8*a^3*b^3*d^2 + 1.81401253154585e-8*a^7*b*d^2 + 1.63572186139504e-8*a^4*b*c*d^2 + 1.48876006965649e-8*b^7*c + 8.91476428164318e-9*a*b^2*c^4 + 5.80533456667442e-9*a^2*b*c^3*d + 5.42797004155310e-9*a^4*c^3*d + 4.77818286810641e-9*a^10*c*d + 1.41286829795077e-9*b^4*c^3 + 1.39343382330819e-9*a^11*c^2 + 9.10843774099431e-10*a^2*b^2*c*d^2 + 4.62363794807316e-10*a^11*b*d + 4.41986780297511e-10*a^6*c*d^2 + 1.92603023445291e-10*b^5*c*d + 1.15996810088153e-11*a*b^4*d^2 + 8.37148530465099e-12*a^9*d^2 + 1.99955074800198e-12*a^2*c^5 + 9.87654922521408e-13*a^3*c^2*d^2 + 2.21151626830050e-13*b^2*c^3*d + 5.63269349671131e-14*a*b*c^2*d^2 + 8.53391078499451e-15*b^3*c*d^2 + 7.99478320268368e-15*a^3*b*d^3 + 2.45935997613218e-15*b*c^5 + 2.28664320341906e-15*a*c^4*d + 1.83370996024649e-15*a^5*d^3 + 2.38902999684116e-17*a*b^2*d^3 + 3.00084084554912e-18*a^2*c*d^3 + 3.28917090119760e-21*c^3*d^2 + 1.04253867313504e-21*b*c*d^3 + 5.49776253411056e-26*a*d^4'"
      ]
     },
     "execution_count": 6,
     "metadata": {},
     "output_type": "execute_result"
    }
   ],
   "source": [
    "compute_for_generator(g, take=17, players=3)"
   ]
  },
  {
   "cell_type": "markdown",
   "metadata": {},
   "source": [
    "For 5 players, the most likely outcome is 4 singles and 3 doubles."
   ]
  },
  {
   "cell_type": "code",
   "execution_count": 7,
   "metadata": {
    "collapsed": false,
    "jupyter": {
     "outputs_hidden": false
    }
   },
   "outputs": [
    {
     "data": {
      "text/plain": [
       "'1.33378172596462*a^4*b^3 + 0.472755424121613*a^6*b^2 + 0.140131051995963*a^3*b^2*c + 0.135991512062344*a^5*b*c + 0.00108648099316496*a^2*b^4 + 0.0000717072544285828*a^8*b + 3.45458088949471e-6*a*b^3*c + 2.18375325892043e-6*a^7*c + 4.09488559467802e-7*a^2*b*c^2 + 8.87334143941016e-8*a^4*c^2 + 8.19252894302661e-8*a^4*b*d + 1.59411627785219e-9*a^2*b^2*d + 5.68940899939683e-11*a^6*d + 7.42194281215510e-12*b^5 + 1.78858023721327e-12*a^3*c*d + 3.25636596246562e-13*a^10 + 4.43375261521789e-14*a*b*c*d + 3.05429745356177e-14*b^2*c^2 + 8.99039544472946e-17*b^3*d + 5.24112509586277e-17*a*c^3 + 1.55551284510579e-22*a^2*d^2 + 3.86502559505920e-25*c^2*d + 2.19629017439201e-27*b*d^2'"
      ]
     },
     "execution_count": 7,
     "metadata": {},
     "output_type": "execute_result"
    }
   ],
   "source": [
    "compute_for_generator(h, take=10, players=5)"
   ]
  },
  {
   "cell_type": "markdown",
   "metadata": {},
   "source": [
    "## Suit Division\n",
    "This code works out the probability of the distributions of suits awarded. E.g. the most likely option is 4 cards each for 2 suits followed by 3 cards of another suit and 2 cards of the 4th suit with prob 21.551% which agrees with the more hand-cranked results from [here](http://www.rpbridge.net/7z77.htm)."
   ]
  },
  {
   "cell_type": "code",
   "execution_count": 11,
   "metadata": {
    "collapsed": false,
    "jupyter": {
     "outputs_hidden": false
    }
   },
   "outputs": [],
   "source": [
    "R.<y, k1, k2, k3, k4, k5, k6, k7, k8, k9, k10, k11, k12, k13> = QQ[]"
   ]
  },
  {
   "cell_type": "code",
   "execution_count": 12,
   "metadata": {
    "collapsed": false,
    "jupyter": {
     "outputs_hidden": false
    }
   },
   "outputs": [
    {
     "data": {
      "text/plain": [
       "'21.5511756451633*k2*k3*k4^2 + 15.5168464645176*k2*k3^2*k5 + 12.9307053870980*k1*k3*k4*k5 + 10.5796680439893*k2^2*k4*k5 + 10.5361303154132*k3^3*k4 + 5.64248962346095*k2^2*k3*k6 + 4.70207468621746*k1*k2*k4*k6 + 3.44818810322613*k1*k3^2*k6 + 3.17390041319678*k1*k2*k5^2 + 2.99321883960602*k1*k4^3 + 1.88082987448698*k1*k2*k3*k7 + 1.32622619354851*k3*k4*k6 + 1.24333705645173*k4^2*k5 + 0.895202680645247*k3*k5^2 + 0.705311202932619*k1^2*k5*k6 + 0.651056495014725*k2*k5*k6 + 0.512953602132813*k2^3*k7 + 0.391839557184788*k1^2*k4*k7 + 0.361698052785958*k2*k4*k7 + 0.265245238709703*k3^2*k7 + 0.192357600799805*k1*k2^2*k8 + 0.117551867155436*k1^2*k3*k8 + 0.108509415835787*k1*k5*k7 + 0.108509415835787*k2*k3*k8 + 0.0723396105571916*k1*k6^2 + 0.0452122565982448*k1*k4*k8 + 0.0178108889629449*k1^2*k2*k9 + 0.0100471681329433*k1*k3*k9 + 0.00822041029058996*k2^2*k9 + 0.00556458542747628*k6*k7 + 0.00313007930295541*k5*k8 + 0.00109605470541199*k1*k2*k10 + 0.000966073858936854*k4*k9 + 0.000395797532509887*k1^3*k10 + 0.000154571817429897*k3*k10 + 0.0000249103342139090*k1^2*k11 + 0.0000114970773294964*k2*k11 + 3.19363259152679e-7*k1*k12 + 6.29907808979643e-10*k13'"
      ]
     },
     "execution_count": 12,
     "metadata": {},
     "output_type": "execute_result"
    }
   ],
   "source": [
    "arr = [1, k1, k2, k3, k4, k5, k6, k7, k8, k9, k10, k11, k12, k13]\n",
    "f = sum([binomial(13, i)*arr[i]*y^i for i in range(len(arr))])^4\n",
    "order_by_terms(100.0 * f.coefficient({y:13})/f.substitute({k1:1, k2:1, k3:1, k4:1, k5:1, k6:1, k7:1, k8:1, k9:1, k10:1, k11:1, k12:1, k13:1}).coefficient({y:13}))"
   ]
  }
 ],
 "metadata": {
  "kernelspec": {
   "display_name": "SageMath 9.4",
   "language": "sage",
   "name": "sagemath"
  },
  "language_info": {
   "codemirror_mode": {
    "name": "ipython",
    "version": 3
   },
   "file_extension": ".py",
   "mimetype": "text/x-python",
   "name": "python",
   "nbconvert_exporter": "python",
   "pygments_lexer": "ipython3",
   "version": "3.9.7"
  }
 },
 "nbformat": 4,
 "nbformat_minor": 4
}
